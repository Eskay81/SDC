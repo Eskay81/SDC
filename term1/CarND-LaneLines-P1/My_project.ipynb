{
 "cells": [
  {
   "cell_type": "code",
   "execution_count": 1,
   "metadata": {
    "collapsed": false
   },
   "outputs": [
    {
     "name": "stderr",
     "output_type": "stream",
     "text": [
      "/usr/local/lib/python3.5/dist-packages/matplotlib/font_manager.py:273: UserWarning: Matplotlib is building the font cache using fc-list. This may take a moment.\n",
      "  warnings.warn('Matplotlib is building the font cache using fc-list. This may take a moment.')\n",
      "/usr/local/lib/python3.5/dist-packages/matplotlib/font_manager.py:273: UserWarning: Matplotlib is building the font cache using fc-list. This may take a moment.\n",
      "  warnings.warn('Matplotlib is building the font cache using fc-list. This may take a moment.')\n"
     ]
    },
    {
     "ename": "ImportError",
     "evalue": "No module named 'cv2'",
     "output_type": "error",
     "traceback": [
      "\u001b[0;31m---------------------------------------------------------------------------\u001b[0m",
      "\u001b[0;31mImportError\u001b[0m                               Traceback (most recent call last)",
      "\u001b[0;32m<ipython-input-1-8d31b6552ba7>\u001b[0m in \u001b[0;36m<module>\u001b[0;34m()\u001b[0m\n\u001b[1;32m      2\u001b[0m \u001b[0;32mimport\u001b[0m \u001b[0mmatplotlib\u001b[0m\u001b[0;34m.\u001b[0m\u001b[0mimage\u001b[0m \u001b[0;32mas\u001b[0m \u001b[0mmpimg\u001b[0m\u001b[0;34m\u001b[0m\u001b[0m\n\u001b[1;32m      3\u001b[0m \u001b[0;32mimport\u001b[0m \u001b[0mnumpy\u001b[0m \u001b[0;32mas\u001b[0m \u001b[0mnp\u001b[0m\u001b[0;34m\u001b[0m\u001b[0m\n\u001b[0;32m----> 4\u001b[0;31m \u001b[0;32mimport\u001b[0m \u001b[0mcv2\u001b[0m\u001b[0;34m\u001b[0m\u001b[0m\n\u001b[0m\u001b[1;32m      5\u001b[0m \u001b[0;32mimport\u001b[0m \u001b[0mmath\u001b[0m\u001b[0;34m\u001b[0m\u001b[0m\n\u001b[1;32m      6\u001b[0m \u001b[0;32mfrom\u001b[0m \u001b[0mmoviepy\u001b[0m \u001b[0;32mimport\u001b[0m \u001b[0;34m*\u001b[0m\u001b[0;34m\u001b[0m\u001b[0m\n",
      "\u001b[0;31mImportError\u001b[0m: No module named 'cv2'"
     ]
    }
   ],
   "source": [
    "import matplotlib.pyplot as plt\n",
    "import matplotlib.image as mpimg\n",
    "import numpy as np\n",
    "import cv2\n",
    "import math\n",
    "from moviepy import *\n",
    "\n",
    "image = mpimg.imread('test_images/solidWhiteRight.jpg')\n",
    "print('This image is :',type(image),'with width :',image.shape[1],'and height :',image.shape[0])\n",
    "plt.imshow(image)\n",
    "plt.show()"
   ]
  },
  {
   "cell_type": "code",
   "execution_count": null,
   "metadata": {
    "collapsed": false
   },
   "outputs": [],
   "source": [
    "\n",
    "def grayscale(img):\n",
    "    return cv2.cvtColor(img, cv2.COLOR_BGR2GRAY)\n",
    "    \n",
    "def canny(img, low_threshold, high_threshold):\n",
    "    return cv2.Canny(img, low_threshold, high_threshold)\n",
    "    \n",
    "def gaussian_blur(img, kernel_size):\n",
    "    return cv2.GaussianBlur(img, (kernel_size, kernel_size), 0)\n",
    "\n",
    "def region_of_interest(img, vertices):\n",
    "    mask  = np.zeros_like(img)\n",
    "    \n",
    "    if len(img.shape) > 2:\n",
    "        channel_count = img.shape[2]\n",
    "        ignore_mask_color = (255,) * channel_count\n",
    "    else:\n",
    "        ignore_mask_color = 255\n",
    "\n",
    "    cv2.fillPoly(mask, vertices, ignore_mask_color)\n",
    "    \n",
    "    masked_image = cv2.bitwise_and(img, mask)\n",
    "    return masked_image\n",
    "\n",
    "def draw_lines(img, lines , color = [255, 0, 0], thickness = 2):\n",
    "    for line in lines:\n",
    "        for x1, y1, x2, y2 in line:\n",
    "            cv2.line(img, (x1,y1), (x2,y2), color, thickness)\n",
    "\n",
    "def hough_lines(img, rho, theta, threshold, min_line_len, max_line_gap):\n",
    "    lines = cv2.HoughLinesP(img, rho, theta,threshold, np.array([]), min_line_len, max_line_gap)\n",
    "    #line_img = np.zeros((*img.shape,3), dtype = np.uint8)\n",
    "    line_img = np.zeros(img.shape + (3,), dtype=np.uint8)\n",
    "    draw_lines(line_img,lines)\n",
    "    return line_img\n",
    "\n",
    "def weighted_img(img, initial_img, alpha = 0.8, beta = 1.0, lambda1 = 0.0):\n",
    "    return cv2.addWeighted(initial_img,alpha,img, beta,lambda1)\n",
    "\n",
    "def process_image(image):\n",
    "    # printing out some stats and plotting\n",
    "    print('This image is:', type(image), 'with dimesions:', image.shape)\n",
    "    gray = grayscale(image)\n",
    "    # Define a kernel size and apply Gaussian smoothing\n",
    "    kernel_size = 5\n",
    "    blur_gray = gaussian_blur(gray, kernel_size)\n",
    "    # plt.imshow(blur_gray, cmap='gray')\n",
    "\n",
    "    # Define our parameters for Canny and apply\n",
    "    low_threshold = 45 #50\n",
    "    high_threshold = 150 #150\n",
    "    edges = canny(blur_gray, low_threshold, high_threshold)\n",
    "\n",
    "    # This time we are defining a four sided polygon to mask\n",
    "    imshape = image.shape\n",
    "    #vertices = np.array([[(0,imshape[0]),(475, 310), (475, 310), (imshape[1],imshape[0])]], dtype=np.int32)\n",
    "    vertices = np.array([[(0,imshape[0]),(450, 330), (490, 310), (imshape[1],imshape[0])]], dtype=np.int32)\n",
    "    masked_edges = region_of_interest(edges, vertices)\n",
    "\n",
    "    # Define the Hough transform parameters\n",
    "    # Make a blank the same size as our image to draw on\n",
    "    rho = 1 # distance resolution in pixels of the Hough grid\n",
    "    theta = np.pi/180 # angular resolution in radians of the Hough grid\n",
    "    threshold = 15# minimum number of votes (intersections in Hough grid cell)\n",
    "    min_line_length = 40 #minimum number of pixels making up a line 150 - 40\n",
    "    max_line_gap = 130 # maximum gap in pixels between connectable line segments 58 -95\n",
    "    line_image = np.copy(image)*0 # creating a blank to draw lines on\n",
    "\n",
    "    lines = hough_lines(masked_edges, rho, theta, threshold, min_line_length, max_line_gap)\n",
    "    # Draw the lines on the edge image\n",
    "    lines_edges = weighted_img(lines, image)\n",
    "    return lines_edges\n",
    "\n",
    "def main():\n",
    "    # reading in an image\n",
    "    image = (mpimg.imread('test_images/solidWhiteRight.jpg') * 255).astype('uint8')\n",
    "    #image = (mpimg.imread('test_images/solidWhiteCurve.jpg') * 255).astype('uint8')\n",
    "    #image = (mpimg.imread('test_images/solidYellowCurve.jpg') * 255).astype('uint8')\n",
    "    #image = (mpimg.imread('test_images/solidYellowCurve2.jpg') * 255).astype('uint8')\n",
    "    #image = (mpimg.imread('test_images/solidYellowLeft.jpg') * 255).astype('uint8')\n",
    "    #image = (mpimg.imread('test_images/whiteCarLaneSwitch.jpg') * 255).astype('uint8')\n",
    "    processImage = process_image(image)\n",
    "    plt.imshow(processImage)\n",
    "    plt.show()\n",
    "\n",
    "    # Make video\n",
    "    white_output = 'white.mp4'\n",
    "    clip1 = VideoFileClip(\"solidWhiteRight.MP4\")\n",
    "    white_clip = clip1.fl_image(process_image) #NOTE: this function expects color images!!\n",
    "    white_clip.write_videofile(white_output, audio=False)\n",
    "\n",
    "    # Make video\n",
    "    yellow_output = 'yellow.mp4'\n",
    "    clip2 = VideoFileClip('solidYellowLeft.mp4')\n",
    "    yellow_clip = clip2.fl_image(process_image)\n",
    "    yellow_clip.write_videofile(yellow_output, audio=False)\n",
    "\n",
    "if __name__ == '__main__':\n",
    "    main()"
   ]
  },
  {
   "cell_type": "code",
   "execution_count": null,
   "metadata": {
    "collapsed": true
   },
   "outputs": [],
   "source": []
  },
  {
   "cell_type": "code",
   "execution_count": null,
   "metadata": {
    "collapsed": true
   },
   "outputs": [],
   "source": []
  },
  {
   "cell_type": "code",
   "execution_count": null,
   "metadata": {
    "collapsed": true
   },
   "outputs": [],
   "source": []
  },
  {
   "cell_type": "code",
   "execution_count": null,
   "metadata": {
    "collapsed": true
   },
   "outputs": [],
   "source": []
  }
 ],
 "metadata": {
  "anaconda-cloud": {},
  "kernelspec": {
   "display_name": "Python 3",
   "language": "python",
   "name": "python3"
  },
  "language_info": {
   "codemirror_mode": {
    "name": "ipython",
    "version": 3
   },
   "file_extension": ".py",
   "mimetype": "text/x-python",
   "name": "python",
   "nbconvert_exporter": "python",
   "pygments_lexer": "ipython3",
   "version": "3.5.2+"
  }
 },
 "nbformat": 4,
 "nbformat_minor": 1
}
